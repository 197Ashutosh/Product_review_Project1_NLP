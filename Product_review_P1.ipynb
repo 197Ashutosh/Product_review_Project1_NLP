{
 "cells": [
  {
   "cell_type": "markdown",
   "id": "8e464c44",
   "metadata": {},
   "source": [
    "# Project 1 : Product Reviews"
   ]
  },
  {
   "cell_type": "markdown",
   "id": "30e7c270",
   "metadata": {},
   "source": [
    "In the highly competitive e-commerce industry, customer reviews play a vital role in shaping product perception and influencing purchase behavior. Ignoring negative feedback can result in customer attrition, damage to brand reputation, and significant financial setbacks. Thus, timely monitoring and analysis of customer sentiment are critical for preserving brand value and ensuring sustained business growth."
   ]
  },
  {
   "cell_type": "code",
   "execution_count": 3,
   "id": "4e536923",
   "metadata": {},
   "outputs": [],
   "source": [
    "import pandas as pd\n",
    "import numpy as np\n",
    "import matplotlib.pyplot as plt\n",
    "import seaborn as sns"
   ]
  },
  {
   "cell_type": "code",
   "execution_count": 4,
   "id": "48badd58",
   "metadata": {},
   "outputs": [],
   "source": [
    "dataset = pd.read_csv('Product_Reviews_dataset.csv')"
   ]
  },
  {
   "cell_type": "code",
   "execution_count": 5,
   "id": "58beeec4",
   "metadata": {},
   "outputs": [
    {
     "data": {
      "text/html": [
       "<div>\n",
       "<style scoped>\n",
       "    .dataframe tbody tr th:only-of-type {\n",
       "        vertical-align: middle;\n",
       "    }\n",
       "\n",
       "    .dataframe tbody tr th {\n",
       "        vertical-align: top;\n",
       "    }\n",
       "\n",
       "    .dataframe thead th {\n",
       "        text-align: right;\n",
       "    }\n",
       "</style>\n",
       "<table border=\"1\" class=\"dataframe\">\n",
       "  <thead>\n",
       "    <tr style=\"text-align: right;\">\n",
       "      <th></th>\n",
       "      <th>Product ID</th>\n",
       "      <th>Product Review</th>\n",
       "      <th>Sentiment</th>\n",
       "    </tr>\n",
       "  </thead>\n",
       "  <tbody>\n",
       "    <tr>\n",
       "      <th>0</th>\n",
       "      <td>AVpe7AsMilAPnD_xQ78G</td>\n",
       "      <td>I initially had trouble deciding between the p...</td>\n",
       "      <td>POSITIVE</td>\n",
       "    </tr>\n",
       "    <tr>\n",
       "      <th>1</th>\n",
       "      <td>AVpe7AsMilAPnD_xQ78G</td>\n",
       "      <td>Allow me to preface this with a little history...</td>\n",
       "      <td>POSITIVE</td>\n",
       "    </tr>\n",
       "    <tr>\n",
       "      <th>2</th>\n",
       "      <td>AVpe7AsMilAPnD_xQ78G</td>\n",
       "      <td>I am enjoying it so far. Great for reading. Ha...</td>\n",
       "      <td>POSITIVE</td>\n",
       "    </tr>\n",
       "    <tr>\n",
       "      <th>3</th>\n",
       "      <td>AVpe7AsMilAPnD_xQ78G</td>\n",
       "      <td>I bought one of the first Paperwhites and have...</td>\n",
       "      <td>POSITIVE</td>\n",
       "    </tr>\n",
       "    <tr>\n",
       "      <th>4</th>\n",
       "      <td>AVpe7AsMilAPnD_xQ78G</td>\n",
       "      <td>I have to say upfront - I don't like coroporat...</td>\n",
       "      <td>POSITIVE</td>\n",
       "    </tr>\n",
       "  </tbody>\n",
       "</table>\n",
       "</div>"
      ],
      "text/plain": [
       "             Product ID                                     Product Review  \\\n",
       "0  AVpe7AsMilAPnD_xQ78G  I initially had trouble deciding between the p...   \n",
       "1  AVpe7AsMilAPnD_xQ78G  Allow me to preface this with a little history...   \n",
       "2  AVpe7AsMilAPnD_xQ78G  I am enjoying it so far. Great for reading. Ha...   \n",
       "3  AVpe7AsMilAPnD_xQ78G  I bought one of the first Paperwhites and have...   \n",
       "4  AVpe7AsMilAPnD_xQ78G  I have to say upfront - I don't like coroporat...   \n",
       "\n",
       "  Sentiment  \n",
       "0  POSITIVE  \n",
       "1  POSITIVE  \n",
       "2  POSITIVE  \n",
       "3  POSITIVE  \n",
       "4  POSITIVE  "
      ]
     },
     "execution_count": 5,
     "metadata": {},
     "output_type": "execute_result"
    }
   ],
   "source": [
    "dataset.head()"
   ]
  },
  {
   "cell_type": "code",
   "execution_count": 6,
   "id": "85d33719",
   "metadata": {},
   "outputs": [
    {
     "data": {
      "text/html": [
       "<div>\n",
       "<style scoped>\n",
       "    .dataframe tbody tr th:only-of-type {\n",
       "        vertical-align: middle;\n",
       "    }\n",
       "\n",
       "    .dataframe tbody tr th {\n",
       "        vertical-align: top;\n",
       "    }\n",
       "\n",
       "    .dataframe thead th {\n",
       "        text-align: right;\n",
       "    }\n",
       "</style>\n",
       "<table border=\"1\" class=\"dataframe\">\n",
       "  <thead>\n",
       "    <tr style=\"text-align: right;\">\n",
       "      <th></th>\n",
       "      <th>Product ID</th>\n",
       "      <th>Product Review</th>\n",
       "      <th>Sentiment</th>\n",
       "    </tr>\n",
       "  </thead>\n",
       "  <tbody>\n",
       "    <tr>\n",
       "      <th>1002</th>\n",
       "      <td>AVpfo9ukilAPnD_xfhuj</td>\n",
       "      <td>This is not the same remote that I got for my ...</td>\n",
       "      <td>NEUTRAL</td>\n",
       "    </tr>\n",
       "    <tr>\n",
       "      <th>1003</th>\n",
       "      <td>AVpfo9ukilAPnD_xfhuj</td>\n",
       "      <td>I have had to change the batteries in this rem...</td>\n",
       "      <td>NEGATIVE</td>\n",
       "    </tr>\n",
       "    <tr>\n",
       "      <th>1004</th>\n",
       "      <td>AVpfo9ukilAPnD_xfhuj</td>\n",
       "      <td>Remote did not activate, nor did it connect to...</td>\n",
       "      <td>NEGATIVE</td>\n",
       "    </tr>\n",
       "    <tr>\n",
       "      <th>1005</th>\n",
       "      <td>AVpfo9ukilAPnD_xfhuj</td>\n",
       "      <td>It does the job but is super over priced. I fe...</td>\n",
       "      <td>NEUTRAL</td>\n",
       "    </tr>\n",
       "    <tr>\n",
       "      <th>1006</th>\n",
       "      <td>AVpfo9ukilAPnD_xfhuj</td>\n",
       "      <td>I ordered this item to replace the one that no...</td>\n",
       "      <td>NEGATIVE</td>\n",
       "    </tr>\n",
       "  </tbody>\n",
       "</table>\n",
       "</div>"
      ],
      "text/plain": [
       "                Product ID                                     Product Review  \\\n",
       "1002  AVpfo9ukilAPnD_xfhuj  This is not the same remote that I got for my ...   \n",
       "1003  AVpfo9ukilAPnD_xfhuj  I have had to change the batteries in this rem...   \n",
       "1004  AVpfo9ukilAPnD_xfhuj  Remote did not activate, nor did it connect to...   \n",
       "1005  AVpfo9ukilAPnD_xfhuj  It does the job but is super over priced. I fe...   \n",
       "1006  AVpfo9ukilAPnD_xfhuj  I ordered this item to replace the one that no...   \n",
       "\n",
       "     Sentiment  \n",
       "1002   NEUTRAL  \n",
       "1003  NEGATIVE  \n",
       "1004  NEGATIVE  \n",
       "1005   NEUTRAL  \n",
       "1006  NEGATIVE  "
      ]
     },
     "execution_count": 6,
     "metadata": {},
     "output_type": "execute_result"
    }
   ],
   "source": [
    "dataset.tail()"
   ]
  },
  {
   "cell_type": "code",
   "execution_count": 7,
   "id": "bf2bc2e0",
   "metadata": {},
   "outputs": [
    {
     "data": {
      "text/plain": [
       "(1007, 3)"
      ]
     },
     "execution_count": 7,
     "metadata": {},
     "output_type": "execute_result"
    }
   ],
   "source": [
    "dataset.shape"
   ]
  },
  {
   "cell_type": "code",
   "execution_count": 8,
   "id": "9e6f2e67",
   "metadata": {},
   "outputs": [
    {
     "name": "stdout",
     "output_type": "stream",
     "text": [
      "<class 'pandas.core.frame.DataFrame'>\n",
      "RangeIndex: 1007 entries, 0 to 1006\n",
      "Data columns (total 3 columns):\n",
      " #   Column          Non-Null Count  Dtype \n",
      "---  ------          --------------  ----- \n",
      " 0   Product ID      1007 non-null   object\n",
      " 1   Product Review  1007 non-null   object\n",
      " 2   Sentiment       1007 non-null   object\n",
      "dtypes: object(3)\n",
      "memory usage: 23.7+ KB\n"
     ]
    }
   ],
   "source": [
    "dataset.info()"
   ]
  },
  {
   "cell_type": "code",
   "execution_count": 9,
   "id": "b42d6231",
   "metadata": {},
   "outputs": [
    {
     "data": {
      "text/plain": [
       "Product ID         66\n",
       "Product Review    908\n",
       "Sentiment           3\n",
       "dtype: int64"
      ]
     },
     "execution_count": 9,
     "metadata": {},
     "output_type": "execute_result"
    }
   ],
   "source": [
    "dataset.nunique()"
   ]
  },
  {
   "cell_type": "code",
   "execution_count": 10,
   "id": "90deecb7",
   "metadata": {},
   "outputs": [
    {
     "data": {
      "text/plain": [
       "2"
      ]
     },
     "execution_count": 10,
     "metadata": {},
     "output_type": "execute_result"
    }
   ],
   "source": [
    "dataset.duplicated().sum()"
   ]
  },
  {
   "cell_type": "code",
   "execution_count": 11,
   "id": "b50b36a9",
   "metadata": {},
   "outputs": [],
   "source": [
    "dataset = dataset.drop_duplicates()"
   ]
  },
  {
   "cell_type": "code",
   "execution_count": 12,
   "id": "1162b50a",
   "metadata": {},
   "outputs": [
    {
     "data": {
      "text/plain": [
       "0"
      ]
     },
     "execution_count": 12,
     "metadata": {},
     "output_type": "execute_result"
    }
   ],
   "source": [
    "dataset.duplicated().sum()"
   ]
  },
  {
   "cell_type": "code",
   "execution_count": 13,
   "id": "531aa7f3",
   "metadata": {},
   "outputs": [
    {
     "data": {
      "text/plain": [
       "Product ID        0\n",
       "Product Review    0\n",
       "Sentiment         0\n",
       "dtype: int64"
      ]
     },
     "execution_count": 13,
     "metadata": {},
     "output_type": "execute_result"
    }
   ],
   "source": [
    "dataset.isnull().sum()"
   ]
  },
  {
   "cell_type": "code",
   "execution_count": 14,
   "id": "1941a823",
   "metadata": {},
   "outputs": [
    {
     "name": "stdout",
     "output_type": "stream",
     "text": [
      "Statistical Summary:\n",
      "                  Product ID  \\\n",
      "count                   1005   \n",
      "unique                    66   \n",
      "top     AVpfpK8KLJeJML43BCuD   \n",
      "freq                     542   \n",
      "\n",
      "                                           Product Review Sentiment  \n",
      "count                                                1005      1005  \n",
      "unique                                                908         3  \n",
      "top     I'm a huge fan of the Echo family. I have two ...  POSITIVE  \n",
      "freq                                                    6       850  \n"
     ]
    }
   ],
   "source": [
    "print(\"Statistical Summary:\")\n",
    "print(dataset.describe(include='all'))"
   ]
  },
  {
   "cell_type": "markdown",
   "id": "d74f2984",
   "metadata": {},
   "source": [
    "# Check class distribution for Sentiment"
   ]
  },
  {
   "cell_type": "code",
   "execution_count": 15,
   "id": "442c8956",
   "metadata": {},
   "outputs": [
    {
     "name": "stdout",
     "output_type": "stream",
     "text": [
      "\n",
      "Sentiment Value Counts:\n",
      "Sentiment\n",
      "POSITIVE    850\n",
      "NEUTRAL      81\n",
      "NEGATIVE     74\n",
      "Name: count, dtype: int64\n"
     ]
    }
   ],
   "source": [
    "print(\"\\nSentiment Value Counts:\")\n",
    "print(dataset['Sentiment'].value_counts())"
   ]
  },
  {
   "cell_type": "code",
   "execution_count": 16,
   "id": "41d93f4f",
   "metadata": {},
   "outputs": [
    {
     "data": {
      "image/png": "[encoded data removed]",
      "text/plain": [
       "<Figure size 600x400 with 1 Axes>"
      ]
     },
     "metadata": {},
     "output_type": "display_data"
    }
   ],
   "source": [
    "plt.figure(figsize=(6,4))\n",
    "sns.countplot(x='Sentiment', data=dataset)\n",
    "plt.title(\"Sentiment Distribution\")\n",
    "plt.show()"
   ]
  },
  {
   "cell_type": "markdown",
   "id": "9c2889b2",
   "metadata": {},
   "source": [
    "# Check number of unique products"
   ]
  },
  {
   "cell_type": "code",
   "execution_count": 17,
   "id": "1fb3b5fe",
   "metadata": {},
   "outputs": [
    {
     "name": "stdout",
     "output_type": "stream",
     "text": [
      "\n",
      "Unique Product IDs: 66\n"
     ]
    }
   ],
   "source": [
    "print(\"\\nUnique Product IDs:\", dataset['Product ID'].nunique())"
   ]
  },
  {
   "cell_type": "markdown",
   "id": "db7014d4",
   "metadata": {},
   "source": [
    "# Top 5 products with most reviews"
   ]
  },
  {
   "cell_type": "code",
   "execution_count": 18,
   "id": "97d6ff9e",
   "metadata": {},
   "outputs": [
    {
     "name": "stdout",
     "output_type": "stream",
     "text": [
      "\n",
      "Top 5 Products by Number of Reviews:\n",
      "Product ID\n",
      "AVpfpK8KLJeJML43BCuD    542\n",
      "AVpfLiCSilAPnD_xWpk_     35\n",
      "AVzRloqLGV-KLJ3aavBd     27\n",
      "AVzRkFTFvKc47QAVd43-     18\n",
      "AVsRjfwAU2_QcyX9PHqe     17\n",
      "Name: count, dtype: int64\n"
     ]
    }
   ],
   "source": [
    "top_products = dataset['Product ID'].value_counts().head(5)\n",
    "print(\"\\nTop 5 Products by Number of Reviews:\")\n",
    "print(top_products)"
   ]
  },
  {
   "cell_type": "markdown",
   "id": "fd102afa",
   "metadata": {},
   "source": [
    "# Text Preprocessing"
   ]
  },
  {
   "cell_type": "code",
   "execution_count": 19,
   "id": "1261b821",
   "metadata": {},
   "outputs": [],
   "source": [
    "def remove_special_characters_no_re(text):\n",
    "    return ''.join(char for char in text if char.isalnum() or char.isspace())\n",
    "\n",
    "dataset['Cleaned_Review'] = dataset['Product Review'].apply(remove_special_characters_no_re)"
   ]
  },
  {
   "cell_type": "markdown",
   "id": "259ae00c",
   "metadata": {},
   "source": [
    "# Lowerning"
   ]
  },
  {
   "cell_type": "code",
   "execution_count": 31,
   "id": "221715dc",
   "metadata": {},
   "outputs": [],
   "source": [
    "dataset['Cleaned_Review'] = dataset['Cleaned_Review'].str.lower()"
   ]
  },
  {
   "cell_type": "code",
   "execution_count": 33,
   "id": "67161073",
   "metadata": {},
   "outputs": [
    {
     "data": {
      "text/html": [
       "<div>\n",
       "<style scoped>\n",
       "    .dataframe tbody tr th:only-of-type {\n",
       "        vertical-align: middle;\n",
       "    }\n",
       "\n",
       "    .dataframe tbody tr th {\n",
       "        vertical-align: top;\n",
       "    }\n",
       "\n",
       "    .dataframe thead th {\n",
       "        text-align: right;\n",
       "    }\n",
       "</style>\n",
       "<table border=\"1\" class=\"dataframe\">\n",
       "  <thead>\n",
       "    <tr style=\"text-align: right;\">\n",
       "      <th></th>\n",
       "      <th>Product Review</th>\n",
       "      <th>Cleaned_Review</th>\n",
       "    </tr>\n",
       "  </thead>\n",
       "  <tbody>\n",
       "    <tr>\n",
       "      <th>0</th>\n",
       "      <td>I initially had trouble deciding between the p...</td>\n",
       "      <td>initially trouble deciding paperwhite voyage r...</td>\n",
       "    </tr>\n",
       "    <tr>\n",
       "      <th>1</th>\n",
       "      <td>Allow me to preface this with a little history...</td>\n",
       "      <td>allow preface little history casual reader own...</td>\n",
       "    </tr>\n",
       "    <tr>\n",
       "      <th>2</th>\n",
       "      <td>I am enjoying it so far. Great for reading. Ha...</td>\n",
       "      <td>enjoying far great reading original fire since...</td>\n",
       "    </tr>\n",
       "    <tr>\n",
       "      <th>3</th>\n",
       "      <td>I bought one of the first Paperwhites and have...</td>\n",
       "      <td>bought one first paperwhites pleased constant ...</td>\n",
       "    </tr>\n",
       "  </tbody>\n",
       "</table>\n",
       "</div>"
      ],
      "text/plain": [
       "                                      Product Review  \\\n",
       "0  I initially had trouble deciding between the p...   \n",
       "1  Allow me to preface this with a little history...   \n",
       "2  I am enjoying it so far. Great for reading. Ha...   \n",
       "3  I bought one of the first Paperwhites and have...   \n",
       "\n",
       "                                      Cleaned_Review  \n",
       "0  initially trouble deciding paperwhite voyage r...  \n",
       "1  allow preface little history casual reader own...  \n",
       "2  enjoying far great reading original fire since...  \n",
       "3  bought one first paperwhites pleased constant ...  "
      ]
     },
     "execution_count": 33,
     "metadata": {},
     "output_type": "execute_result"
    }
   ],
   "source": [
    "dataset.loc[0:3, ['Product Review','Cleaned_Review']]"
   ]
  },
  {
   "cell_type": "markdown",
   "id": "8ecc6346",
   "metadata": {},
   "source": [
    "# Remove extra white space"
   ]
  },
  {
   "cell_type": "code",
   "execution_count": 34,
   "id": "8edf70ba",
   "metadata": {},
   "outputs": [
    {
     "name": "stderr",
     "output_type": "stream",
     "text": [
      "<>:1: SyntaxWarning: invalid escape sequence '\\s'\n",
      "<>:1: SyntaxWarning: invalid escape sequence '\\s'\n",
      "C:\\Users\\197as\\AppData\\Local\\Temp\\ipykernel_19892\\1968623561.py:1: SyntaxWarning: invalid escape sequence '\\s'\n",
      "  dataset['Cleaned_Review'] = dataset['Cleaned_Review'].str.strip().replace('\\s+', ' ', regex=True)\n"
     ]
    }
   ],
   "source": [
    "dataset['Cleaned_Review'] = dataset['Cleaned_Review'].str.strip().replace('\\s+', ' ', regex=True)"
   ]
  },
  {
   "cell_type": "markdown",
   "id": "a82f3243",
   "metadata": {},
   "source": [
    "# Remove stopwords from the text"
   ]
  },
  {
   "cell_type": "code",
   "execution_count": 22,
   "id": "c60133aa",
   "metadata": {},
   "outputs": [
    {
     "name": "stdout",
     "output_type": "stream",
     "text": [
      "Requirement already satisfied: nltk in c:\\users\\197as\\appdata\\local\\programs\\python\\python312\\lib\\site-packages (3.9.1)\n",
      "Requirement already satisfied: click in c:\\users\\197as\\appdata\\local\\programs\\python\\python312\\lib\\site-packages (from nltk) (8.1.8)\n",
      "Requirement already satisfied: joblib in c:\\users\\197as\\appdata\\local\\programs\\python\\python312\\lib\\site-packages (from nltk) (1.4.2)\n",
      "Requirement already satisfied: regex>=2021.8.3 in c:\\users\\197as\\appdata\\local\\programs\\python\\python312\\lib\\site-packages (from nltk) (2024.11.6)\n",
      "Requirement already satisfied: tqdm in c:\\users\\197as\\appdata\\local\\programs\\python\\python312\\lib\\site-packages (from nltk) (4.66.5)\n",
      "Requirement already satisfied: colorama in c:\\users\\197as\\appdata\\roaming\\python\\python312\\site-packages (from click->nltk) (0.4.6)\n",
      "Note: you may need to restart the kernel to use updated packages.\n"
     ]
    },
    {
     "name": "stderr",
     "output_type": "stream",
     "text": [
      "\n",
      "[notice] A new release of pip is available: 24.3.1 -> 25.2\n",
      "[notice] To update, run: python.exe -m pip install --upgrade pip\n"
     ]
    }
   ],
   "source": [
    "pip install nltk"
   ]
  },
  {
   "cell_type": "code",
   "execution_count": 23,
   "id": "c6011f18",
   "metadata": {},
   "outputs": [
    {
     "name": "stdout",
     "output_type": "stream",
     "text": [
      "3.9.1\n"
     ]
    }
   ],
   "source": [
    "import nltk\n",
    "print(nltk.__version__)"
   ]
  },
  {
   "cell_type": "code",
   "execution_count": 35,
   "id": "15664b66",
   "metadata": {},
   "outputs": [
    {
     "name": "stderr",
     "output_type": "stream",
     "text": [
      "[nltk_data] Downloading package stopwords to\n",
      "[nltk_data]     C:\\Users\\197as\\AppData\\Roaming\\nltk_data...\n",
      "[nltk_data]   Package stopwords is already up-to-date!\n"
     ]
    }
   ],
   "source": [
    "import nltk\n",
    "from nltk.corpus import stopwords\n",
    "\n",
    "nltk.download('stopwords')\n",
    "nltk_stopwords = set(stopwords.words('english'))\n",
    "\n",
    "dataset['Cleaned_Review'] = dataset['Cleaned_Review'].apply(\n",
    "    lambda x: ' '.join([word for word in x.split() if word not in nltk_stopwords])\n",
    ")"
   ]
  },
  {
   "cell_type": "markdown",
   "id": "b5587cdf",
   "metadata": {},
   "source": [
    "* stemming - convert by removing suffix \n",
    "* lemmatization - To convert into dictionary root word\n",
    "              - Convert into \n",
    "\n",
    "stemming \n",
    "1. running - run\n",
    "2. studies - studi\n",
    "3. flies - fli\n",
    "4. happiness - happi\n",
    "\n",
    "Lemmatization\n",
    "1. running - run\n",
    "2. studies - study\n",
    "3. flies - fly\n",
    "4. happiness - happy\n",
    "\n"
   ]
  },
  {
   "cell_type": "code",
   "execution_count": 36,
   "id": "8ad85c7d",
   "metadata": {},
   "outputs": [
    {
     "name": "stdout",
     "output_type": "stream",
     "text": [
      "running → run\n",
      "studies → studi\n",
      "flies → fli\n",
      "easily → easili\n",
      "happiness → happi\n"
     ]
    }
   ],
   "source": [
    "# Stemming using NLTK (PorterStemmer)\n",
    "from nltk.stem import PorterStemmer\n",
    "\n",
    "stemmer = PorterStemmer()\n",
    "\n",
    "words = [\"running\", \"studies\", \"flies\", \"easily\", \"happiness\"]\n",
    "\n",
    "for word in words:\n",
    "    print(f\"{word} → {stemmer.stem(word)}\")\n"
   ]
  },
  {
   "cell_type": "code",
   "execution_count": null,
   "id": "b786b0ac",
   "metadata": {},
   "outputs": [
    {
     "name": "stderr",
     "output_type": "stream",
     "text": [
      "[nltk_data] Downloading package wordnet to\n",
      "[nltk_data]     C:\\Users\\197as\\AppData\\Roaming\\nltk_data...\n",
      "[nltk_data] Downloading package omw-1.4 to\n",
      "[nltk_data]     C:\\Users\\197as\\AppData\\Roaming\\nltk_data...\n"
     ]
    },
    {
     "name": "stdout",
     "output_type": "stream",
     "text": [
      "running → running\n",
      "studies → study\n",
      "flies → fly\n",
      "better → better\n",
      "happiness → happiness\n"
     ]
    }
   ],
   "source": [
    "# Lemmatization using NLTK (WordNetLemmatizer)\n",
    "from nltk.stem import WordNetLemmatizer\n",
    "from nltk.corpus import wordnet \n",
    "import nltk\n",
    "\n",
    "nltk.download('wordnet')\n",
    "nltk.download('omw-1.4') \n",
    "\n",
    "lemmatizer = WordNetLemmatizer()\n",
    "\n",
    "words = [\"running\", \"studies\", \"flies\", \"better\", \"happiness\"]\n",
    "\n",
    "for word in words:\n",
    "    print(f\"{word} → {lemmatizer.lemmatize(word)}\")\n"
   ]
  },
  {
   "cell_type": "code",
   "execution_count": 39,
   "id": "1430e6f6",
   "metadata": {},
   "outputs": [],
   "source": [
    "def apply_porter_stemmer(text):\n",
    "   \n",
    "    words = text.split()\n",
    "    new_text = ' '.join([ps.stem(word) for word in words])\n",
    "    return new_text"
   ]
  },
  {
   "cell_type": "code",
   "execution_count": 42,
   "id": "ba6f8bcf",
   "metadata": {},
   "outputs": [],
   "source": [
    "def apply_porter_stemmer(text): \n",
    "    words = text.split()\n",
    "    new_text = ' '.join([stemmer.stem(word) for word in words])\n",
    "    return new_text\n",
    "\n",
    "dataset['Cleaned_Review'] = dataset['Cleaned_Review'].apply(apply_porter_stemmer)"
   ]
  },
  {
   "cell_type": "markdown",
   "id": "08eba0ad",
   "metadata": {},
   "source": [
    "## Text Vectorization"
   ]
  },
  {
   "cell_type": "markdown",
   "id": "c03703d4",
   "metadata": {},
   "source": [
    "\n",
    "\n",
    "\n",
    "## 1. Bag of Words (BoW) using CountVectorizer\n",
    "* 🔍 Idea:\n",
    "Convert each document into a vector based on word counts, ignoring grammar and word order.\n",
    "\n",
    "* ✅ Steps:\n",
    "Build vocabulary of all unique words.\n",
    "\n",
    "Count how many times each word occurs in each sentence.\n",
    "\n",
    "* 🧠 Vocabulary:\n",
    "  * Example Corpus (2 sentences)\n",
    "  1. \"I love NLP\"\n",
    "  2. \"I love machine learning\"\n",
    "\n",
    "  ['I', 'love', 'NLP', 'machine', 'learning']\n",
    "  \n",
    "  (indexed as 0, 1, 2, 3, 4)\n",
    "\n",
    "* 🧮 Vector Representation:\n",
    "Each sentence becomes a 5-dimensional vector (length = number of unique words):\n",
    "\n",
    "| Sentence | I | love | NLP | machine | learning |\n",
    "| -------- | - | ---- | --- | ------- | -------- |\n",
    "| 1        | 1 | 1    | 1   | 0       | 0        |\n",
    "| 2        | 1 | 1    | 0   | 1       | 1        |\n",
    "\n",
    "\n",
    "This is the BoW matrix."
   ]
  },
  {
   "cell_type": "code",
   "execution_count": 44,
   "id": "a7a65945",
   "metadata": {},
   "outputs": [
    {
     "name": "stdout",
     "output_type": "stream",
     "text": [
      "Shape of the feature vector (1005, 1000)\n",
      "first 10 words ['10' '100' '139' '15' '16' '16gb' '16level' '20' '2013' '2014']\n",
      "last 10 words ['would' 'wouldnt' 'write' 'wrong' 'ye' 'year' 'yet' 'youll' 'your'\n",
      " 'youtub']\n"
     ]
    },
    {
     "data": {
      "text/html": [
       "<div>\n",
       "<style scoped>\n",
       "    .dataframe tbody tr th:only-of-type {\n",
       "        vertical-align: middle;\n",
       "    }\n",
       "\n",
       "    .dataframe tbody tr th {\n",
       "        vertical-align: top;\n",
       "    }\n",
       "\n",
       "    .dataframe thead th {\n",
       "        text-align: right;\n",
       "    }\n",
       "</style>\n",
       "<table border=\"1\" class=\"dataframe\">\n",
       "  <thead>\n",
       "    <tr style=\"text-align: right;\">\n",
       "      <th></th>\n",
       "      <th>10</th>\n",
       "      <th>100</th>\n",
       "      <th>139</th>\n",
       "      <th>15</th>\n",
       "      <th>16</th>\n",
       "      <th>16gb</th>\n",
       "      <th>16level</th>\n",
       "      <th>20</th>\n",
       "      <th>2013</th>\n",
       "      <th>2014</th>\n",
       "      <th>...</th>\n",
       "      <th>would</th>\n",
       "      <th>wouldnt</th>\n",
       "      <th>write</th>\n",
       "      <th>wrong</th>\n",
       "      <th>ye</th>\n",
       "      <th>year</th>\n",
       "      <th>yet</th>\n",
       "      <th>youll</th>\n",
       "      <th>your</th>\n",
       "      <th>youtub</th>\n",
       "    </tr>\n",
       "  </thead>\n",
       "  <tbody>\n",
       "    <tr>\n",
       "      <th>0</th>\n",
       "      <td>0</td>\n",
       "      <td>0</td>\n",
       "      <td>0</td>\n",
       "      <td>0</td>\n",
       "      <td>0</td>\n",
       "      <td>0</td>\n",
       "      <td>0</td>\n",
       "      <td>0</td>\n",
       "      <td>0</td>\n",
       "      <td>0</td>\n",
       "      <td>...</td>\n",
       "      <td>0</td>\n",
       "      <td>0</td>\n",
       "      <td>0</td>\n",
       "      <td>0</td>\n",
       "      <td>0</td>\n",
       "      <td>0</td>\n",
       "      <td>0</td>\n",
       "      <td>1</td>\n",
       "      <td>0</td>\n",
       "      <td>0</td>\n",
       "    </tr>\n",
       "    <tr>\n",
       "      <th>1</th>\n",
       "      <td>0</td>\n",
       "      <td>0</td>\n",
       "      <td>0</td>\n",
       "      <td>0</td>\n",
       "      <td>0</td>\n",
       "      <td>0</td>\n",
       "      <td>0</td>\n",
       "      <td>0</td>\n",
       "      <td>0</td>\n",
       "      <td>0</td>\n",
       "      <td>...</td>\n",
       "      <td>0</td>\n",
       "      <td>0</td>\n",
       "      <td>0</td>\n",
       "      <td>0</td>\n",
       "      <td>0</td>\n",
       "      <td>1</td>\n",
       "      <td>0</td>\n",
       "      <td>0</td>\n",
       "      <td>0</td>\n",
       "      <td>0</td>\n",
       "    </tr>\n",
       "    <tr>\n",
       "      <th>2</th>\n",
       "      <td>0</td>\n",
       "      <td>0</td>\n",
       "      <td>0</td>\n",
       "      <td>0</td>\n",
       "      <td>0</td>\n",
       "      <td>0</td>\n",
       "      <td>0</td>\n",
       "      <td>0</td>\n",
       "      <td>0</td>\n",
       "      <td>0</td>\n",
       "      <td>...</td>\n",
       "      <td>0</td>\n",
       "      <td>0</td>\n",
       "      <td>0</td>\n",
       "      <td>0</td>\n",
       "      <td>0</td>\n",
       "      <td>0</td>\n",
       "      <td>1</td>\n",
       "      <td>0</td>\n",
       "      <td>0</td>\n",
       "      <td>0</td>\n",
       "    </tr>\n",
       "    <tr>\n",
       "      <th>3</th>\n",
       "      <td>0</td>\n",
       "      <td>0</td>\n",
       "      <td>0</td>\n",
       "      <td>0</td>\n",
       "      <td>0</td>\n",
       "      <td>0</td>\n",
       "      <td>0</td>\n",
       "      <td>0</td>\n",
       "      <td>0</td>\n",
       "      <td>0</td>\n",
       "      <td>...</td>\n",
       "      <td>2</td>\n",
       "      <td>1</td>\n",
       "      <td>0</td>\n",
       "      <td>0</td>\n",
       "      <td>0</td>\n",
       "      <td>1</td>\n",
       "      <td>0</td>\n",
       "      <td>0</td>\n",
       "      <td>0</td>\n",
       "      <td>0</td>\n",
       "    </tr>\n",
       "    <tr>\n",
       "      <th>4</th>\n",
       "      <td>0</td>\n",
       "      <td>0</td>\n",
       "      <td>0</td>\n",
       "      <td>0</td>\n",
       "      <td>0</td>\n",
       "      <td>0</td>\n",
       "      <td>0</td>\n",
       "      <td>0</td>\n",
       "      <td>0</td>\n",
       "      <td>0</td>\n",
       "      <td>...</td>\n",
       "      <td>0</td>\n",
       "      <td>0</td>\n",
       "      <td>0</td>\n",
       "      <td>0</td>\n",
       "      <td>0</td>\n",
       "      <td>1</td>\n",
       "      <td>0</td>\n",
       "      <td>0</td>\n",
       "      <td>0</td>\n",
       "      <td>0</td>\n",
       "    </tr>\n",
       "  </tbody>\n",
       "</table>\n",
       "<p>5 rows × 1000 columns</p>\n",
       "</div>"
      ],
      "text/plain": [
       "   10  100  139  15  16  16gb  16level  20  2013  2014  ...  would  wouldnt  \\\n",
       "0   0    0    0   0   0     0        0   0     0     0  ...      0        0   \n",
       "1   0    0    0   0   0     0        0   0     0     0  ...      0        0   \n",
       "2   0    0    0   0   0     0        0   0     0     0  ...      0        0   \n",
       "3   0    0    0   0   0     0        0   0     0     0  ...      2        1   \n",
       "4   0    0    0   0   0     0        0   0     0     0  ...      0        0   \n",
       "\n",
       "   write  wrong  ye  year  yet  youll  your  youtub  \n",
       "0      0      0   0     0    0      1     0       0  \n",
       "1      0      0   0     1    0      0     0       0  \n",
       "2      0      0   0     0    1      0     0       0  \n",
       "3      0      0   0     1    0      0     0       0  \n",
       "4      0      0   0     1    0      0     0       0  \n",
       "\n",
       "[5 rows x 1000 columns]"
      ]
     },
     "execution_count": 44,
     "metadata": {},
     "output_type": "execute_result"
    }
   ],
   "source": [
    "from sklearn.feature_extraction.text import CountVectorizer\n",
    "bow_vec = CountVectorizer(max_features=1000)\n",
    "data_features_BOW = bow_vec.fit_transform(dataset['Cleaned_Review'])\n",
    "data_features_BOW = data_features_BOW.toarray()\n",
    "print(\"Shape of the feature vector\", data_features_BOW.shape)\n",
    "words = bow_vec.get_feature_names_out()\n",
    "\n",
    "print(\"first 10 words\", words[:10])\n",
    "print(\"last 10 words\", words[-10:])\n",
    "df_BOW = pd.DataFrame(data_features_BOW, columns=words)\n",
    "df_BOW.head()"
   ]
  },
  {
   "cell_type": "markdown",
   "id": "c373aeec",
   "metadata": {},
   "source": [
    "\n",
    "* 🔍 Idea:\n",
    "Not all words are equally important. Common words like \"I\" appear often but carry less meaning. TF-IDF lowers their weight.\n",
    "\n",
    "* 🧠 Formula:\n",
    "  * TF (term frequency) = (Number of times word appears in doc) / (Total words in doc)\n",
    "\n",
    "  * IDF (inverse document frequency) = log(N / df),\n",
    "where:\n",
    "\n",
    "  * N = total number of documents\n",
    "\n",
    "  * df = number of documents containing the word\n",
    "\n",
    "  * TF-IDF = TF × IDF\n",
    "\n",
    "* 🧮 For our example:\n",
    "Let’s calculate for word “love” in Sentence 1:\n",
    "\n",
    "TF(\"love\", doc1) = 1 / 3 = 0.33\n",
    "\n",
    "IDF(\"love\") = log(2 / 2) = log(1) = 0\n",
    "\n",
    "So, TF-IDF(\"love\", doc1) = 0.33 × 0 = 0\n",
    "\n",
    "Word “NLP”:\n",
    "\n",
    "TF = 1/3\n",
    "\n",
    "IDF = log(2 / 1) = 0.693\n",
    "\n",
    "TF-IDF = 0.33 × 0.693 ≈ 0.23\n",
    "\n",
    "* So common words (like \"love\") have low scores, and rare words (like \"NLP\") get higher weights.\n",
    "\n"
   ]
  },
  {
   "cell_type": "code",
   "execution_count": 46,
   "id": "798a826e",
   "metadata": {},
   "outputs": [
    {
     "name": "stdout",
     "output_type": "stream",
     "text": [
      "Shape of the feature vector (1005, 1000)\n",
      "first 10 words ['10' '100' '139' '15' '16' '16gb' '16level' '20' '2013' '2014']\n",
      "last 10 words ['would' 'wouldnt' 'write' 'wrong' 'ye' 'year' 'yet' 'youll' 'your'\n",
      " 'youtub']\n"
     ]
    },
    {
     "data": {
      "text/html": [
       "<div>\n",
       "<style scoped>\n",
       "    .dataframe tbody tr th:only-of-type {\n",
       "        vertical-align: middle;\n",
       "    }\n",
       "\n",
       "    .dataframe tbody tr th {\n",
       "        vertical-align: top;\n",
       "    }\n",
       "\n",
       "    .dataframe thead th {\n",
       "        text-align: right;\n",
       "    }\n",
       "</style>\n",
       "<table border=\"1\" class=\"dataframe\">\n",
       "  <thead>\n",
       "    <tr style=\"text-align: right;\">\n",
       "      <th></th>\n",
       "      <th>10</th>\n",
       "      <th>100</th>\n",
       "      <th>139</th>\n",
       "      <th>15</th>\n",
       "      <th>16</th>\n",
       "      <th>16gb</th>\n",
       "      <th>16level</th>\n",
       "      <th>20</th>\n",
       "      <th>2013</th>\n",
       "      <th>2014</th>\n",
       "      <th>...</th>\n",
       "      <th>would</th>\n",
       "      <th>wouldnt</th>\n",
       "      <th>write</th>\n",
       "      <th>wrong</th>\n",
       "      <th>ye</th>\n",
       "      <th>year</th>\n",
       "      <th>yet</th>\n",
       "      <th>youll</th>\n",
       "      <th>your</th>\n",
       "      <th>youtub</th>\n",
       "    </tr>\n",
       "  </thead>\n",
       "  <tbody>\n",
       "    <tr>\n",
       "      <th>0</th>\n",
       "      <td>0.0</td>\n",
       "      <td>0.0</td>\n",
       "      <td>0.0</td>\n",
       "      <td>0.0</td>\n",
       "      <td>0.0</td>\n",
       "      <td>0.0</td>\n",
       "      <td>0.0</td>\n",
       "      <td>0.0</td>\n",
       "      <td>0.0</td>\n",
       "      <td>0.0</td>\n",
       "      <td>...</td>\n",
       "      <td>0.000000</td>\n",
       "      <td>0.000000</td>\n",
       "      <td>0.0</td>\n",
       "      <td>0.0</td>\n",
       "      <td>0.0</td>\n",
       "      <td>0.000000</td>\n",
       "      <td>0.00000</td>\n",
       "      <td>0.117307</td>\n",
       "      <td>0.0</td>\n",
       "      <td>0.0</td>\n",
       "    </tr>\n",
       "    <tr>\n",
       "      <th>1</th>\n",
       "      <td>0.0</td>\n",
       "      <td>0.0</td>\n",
       "      <td>0.0</td>\n",
       "      <td>0.0</td>\n",
       "      <td>0.0</td>\n",
       "      <td>0.0</td>\n",
       "      <td>0.0</td>\n",
       "      <td>0.0</td>\n",
       "      <td>0.0</td>\n",
       "      <td>0.0</td>\n",
       "      <td>...</td>\n",
       "      <td>0.000000</td>\n",
       "      <td>0.000000</td>\n",
       "      <td>0.0</td>\n",
       "      <td>0.0</td>\n",
       "      <td>0.0</td>\n",
       "      <td>0.063824</td>\n",
       "      <td>0.00000</td>\n",
       "      <td>0.000000</td>\n",
       "      <td>0.0</td>\n",
       "      <td>0.0</td>\n",
       "    </tr>\n",
       "    <tr>\n",
       "      <th>2</th>\n",
       "      <td>0.0</td>\n",
       "      <td>0.0</td>\n",
       "      <td>0.0</td>\n",
       "      <td>0.0</td>\n",
       "      <td>0.0</td>\n",
       "      <td>0.0</td>\n",
       "      <td>0.0</td>\n",
       "      <td>0.0</td>\n",
       "      <td>0.0</td>\n",
       "      <td>0.0</td>\n",
       "      <td>...</td>\n",
       "      <td>0.000000</td>\n",
       "      <td>0.000000</td>\n",
       "      <td>0.0</td>\n",
       "      <td>0.0</td>\n",
       "      <td>0.0</td>\n",
       "      <td>0.000000</td>\n",
       "      <td>0.27856</td>\n",
       "      <td>0.000000</td>\n",
       "      <td>0.0</td>\n",
       "      <td>0.0</td>\n",
       "    </tr>\n",
       "    <tr>\n",
       "      <th>3</th>\n",
       "      <td>0.0</td>\n",
       "      <td>0.0</td>\n",
       "      <td>0.0</td>\n",
       "      <td>0.0</td>\n",
       "      <td>0.0</td>\n",
       "      <td>0.0</td>\n",
       "      <td>0.0</td>\n",
       "      <td>0.0</td>\n",
       "      <td>0.0</td>\n",
       "      <td>0.0</td>\n",
       "      <td>...</td>\n",
       "      <td>0.091897</td>\n",
       "      <td>0.077994</td>\n",
       "      <td>0.0</td>\n",
       "      <td>0.0</td>\n",
       "      <td>0.0</td>\n",
       "      <td>0.057667</td>\n",
       "      <td>0.00000</td>\n",
       "      <td>0.000000</td>\n",
       "      <td>0.0</td>\n",
       "      <td>0.0</td>\n",
       "    </tr>\n",
       "    <tr>\n",
       "      <th>4</th>\n",
       "      <td>0.0</td>\n",
       "      <td>0.0</td>\n",
       "      <td>0.0</td>\n",
       "      <td>0.0</td>\n",
       "      <td>0.0</td>\n",
       "      <td>0.0</td>\n",
       "      <td>0.0</td>\n",
       "      <td>0.0</td>\n",
       "      <td>0.0</td>\n",
       "      <td>0.0</td>\n",
       "      <td>...</td>\n",
       "      <td>0.000000</td>\n",
       "      <td>0.000000</td>\n",
       "      <td>0.0</td>\n",
       "      <td>0.0</td>\n",
       "      <td>0.0</td>\n",
       "      <td>0.048019</td>\n",
       "      <td>0.00000</td>\n",
       "      <td>0.000000</td>\n",
       "      <td>0.0</td>\n",
       "      <td>0.0</td>\n",
       "    </tr>\n",
       "  </tbody>\n",
       "</table>\n",
       "<p>5 rows × 1000 columns</p>\n",
       "</div>"
      ],
      "text/plain": [
       "    10  100  139   15   16  16gb  16level   20  2013  2014  ...     would  \\\n",
       "0  0.0  0.0  0.0  0.0  0.0   0.0      0.0  0.0   0.0   0.0  ...  0.000000   \n",
       "1  0.0  0.0  0.0  0.0  0.0   0.0      0.0  0.0   0.0   0.0  ...  0.000000   \n",
       "2  0.0  0.0  0.0  0.0  0.0   0.0      0.0  0.0   0.0   0.0  ...  0.000000   \n",
       "3  0.0  0.0  0.0  0.0  0.0   0.0      0.0  0.0   0.0   0.0  ...  0.091897   \n",
       "4  0.0  0.0  0.0  0.0  0.0   0.0      0.0  0.0   0.0   0.0  ...  0.000000   \n",
       "\n",
       "    wouldnt  write  wrong   ye      year      yet     youll  your  youtub  \n",
       "0  0.000000    0.0    0.0  0.0  0.000000  0.00000  0.117307   0.0     0.0  \n",
       "1  0.000000    0.0    0.0  0.0  0.063824  0.00000  0.000000   0.0     0.0  \n",
       "2  0.000000    0.0    0.0  0.0  0.000000  0.27856  0.000000   0.0     0.0  \n",
       "3  0.077994    0.0    0.0  0.0  0.057667  0.00000  0.000000   0.0     0.0  \n",
       "4  0.000000    0.0    0.0  0.0  0.048019  0.00000  0.000000   0.0     0.0  \n",
       "\n",
       "[5 rows x 1000 columns]"
      ]
     },
     "execution_count": 46,
     "metadata": {},
     "output_type": "execute_result"
    }
   ],
   "source": [
    "from sklearn.feature_extraction.text import TfidfVectorizer\n",
    "tfidf = TfidfVectorizer(max_features=1000)\n",
    "data_features_tfidf = tfidf.fit_transform(dataset['Cleaned_Review'])\n",
    "data_features_tfidf = data_features_tfidf.toarray()\n",
    "print(\"Shape of the feature vector\",data_features_tfidf.shape)\n",
    "words = tfidf.get_feature_names_out()\n",
    "\n",
    "print(\"first 10 words\",words[:10])\n",
    "print(\"last 10 words\",words[-10:])\n",
    "df_tfidf = pd.DataFrame(data_features_tfidf, columns=tfidf.get_feature_names_out())\n",
    "df_tfidf.head()\n"
   ]
  },
  {
   "cell_type": "markdown",
   "id": "c7e8fb14",
   "metadata": {},
   "source": [
    "\n",
    "* 🔍 Idea:\n",
    "Capture sequences of words instead of individual ones.\n",
    "\n",
    "* ✅ For example:\n",
    "Unigram (1-word): \"I\", \"love\", \"NLP\"\n",
    "\n",
    "Bigram (2-words): \"I love\", \"love NLP\"\n",
    "\n",
    "Trigram (3-words): \"I love NLP\"\n",
    "\n",
    "For sentence 2:\n",
    "\n",
    "Bigrams = \"I love\", \"love machine\", \"machine learning\"\n",
    "\n",
    "So instead of:\n",
    "\n",
    "[I, love, NLP, machine, learning]\n",
    "The vocabulary becomes:\n",
    "\n",
    "['I love', 'love NLP', 'love machine', 'machine learning']\n",
    "\n",
    "And the vector representation is based on these bigrams."
   ]
  },
  {
   "cell_type": "code",
   "execution_count": 47,
   "id": "5e53bcd3",
   "metadata": {},
   "outputs": [
    {
     "name": "stdout",
     "output_type": "stream",
     "text": [
      "Shape of the feature vector (1005, 1000)\n",
      "first 10 words ['10' '100' '15' '20' '2013' '2014' '2015' '2nd' '30' '300']\n",
      "last 10 words ['ye' 'year' 'year kindl' 'year model' 'year old' 'yet' 'youll' 'your'\n",
      " 'your read' 'youtub']\n"
     ]
    },
    {
     "data": {
      "text/html": [
       "<div>\n",
       "<style scoped>\n",
       "    .dataframe tbody tr th:only-of-type {\n",
       "        vertical-align: middle;\n",
       "    }\n",
       "\n",
       "    .dataframe tbody tr th {\n",
       "        vertical-align: top;\n",
       "    }\n",
       "\n",
       "    .dataframe thead th {\n",
       "        text-align: right;\n",
       "    }\n",
       "</style>\n",
       "<table border=\"1\" class=\"dataframe\">\n",
       "  <thead>\n",
       "    <tr style=\"text-align: right;\">\n",
       "      <th></th>\n",
       "      <th>10</th>\n",
       "      <th>100</th>\n",
       "      <th>15</th>\n",
       "      <th>20</th>\n",
       "      <th>2013</th>\n",
       "      <th>2014</th>\n",
       "      <th>2015</th>\n",
       "      <th>2nd</th>\n",
       "      <th>30</th>\n",
       "      <th>300</th>\n",
       "      <th>...</th>\n",
       "      <th>ye</th>\n",
       "      <th>year</th>\n",
       "      <th>year kindl</th>\n",
       "      <th>year model</th>\n",
       "      <th>year old</th>\n",
       "      <th>yet</th>\n",
       "      <th>youll</th>\n",
       "      <th>your</th>\n",
       "      <th>your read</th>\n",
       "      <th>youtub</th>\n",
       "    </tr>\n",
       "  </thead>\n",
       "  <tbody>\n",
       "    <tr>\n",
       "      <th>0</th>\n",
       "      <td>0</td>\n",
       "      <td>0</td>\n",
       "      <td>0</td>\n",
       "      <td>0</td>\n",
       "      <td>0</td>\n",
       "      <td>0</td>\n",
       "      <td>0</td>\n",
       "      <td>0</td>\n",
       "      <td>0</td>\n",
       "      <td>1</td>\n",
       "      <td>...</td>\n",
       "      <td>0</td>\n",
       "      <td>0</td>\n",
       "      <td>0</td>\n",
       "      <td>0</td>\n",
       "      <td>0</td>\n",
       "      <td>0</td>\n",
       "      <td>1</td>\n",
       "      <td>0</td>\n",
       "      <td>0</td>\n",
       "      <td>0</td>\n",
       "    </tr>\n",
       "    <tr>\n",
       "      <th>1</th>\n",
       "      <td>0</td>\n",
       "      <td>0</td>\n",
       "      <td>0</td>\n",
       "      <td>0</td>\n",
       "      <td>0</td>\n",
       "      <td>0</td>\n",
       "      <td>0</td>\n",
       "      <td>0</td>\n",
       "      <td>0</td>\n",
       "      <td>0</td>\n",
       "      <td>...</td>\n",
       "      <td>0</td>\n",
       "      <td>1</td>\n",
       "      <td>0</td>\n",
       "      <td>0</td>\n",
       "      <td>0</td>\n",
       "      <td>0</td>\n",
       "      <td>0</td>\n",
       "      <td>0</td>\n",
       "      <td>0</td>\n",
       "      <td>0</td>\n",
       "    </tr>\n",
       "    <tr>\n",
       "      <th>2</th>\n",
       "      <td>0</td>\n",
       "      <td>0</td>\n",
       "      <td>0</td>\n",
       "      <td>0</td>\n",
       "      <td>0</td>\n",
       "      <td>0</td>\n",
       "      <td>0</td>\n",
       "      <td>0</td>\n",
       "      <td>0</td>\n",
       "      <td>0</td>\n",
       "      <td>...</td>\n",
       "      <td>0</td>\n",
       "      <td>0</td>\n",
       "      <td>0</td>\n",
       "      <td>0</td>\n",
       "      <td>0</td>\n",
       "      <td>1</td>\n",
       "      <td>0</td>\n",
       "      <td>0</td>\n",
       "      <td>0</td>\n",
       "      <td>0</td>\n",
       "    </tr>\n",
       "    <tr>\n",
       "      <th>3</th>\n",
       "      <td>0</td>\n",
       "      <td>0</td>\n",
       "      <td>0</td>\n",
       "      <td>0</td>\n",
       "      <td>0</td>\n",
       "      <td>0</td>\n",
       "      <td>0</td>\n",
       "      <td>0</td>\n",
       "      <td>0</td>\n",
       "      <td>0</td>\n",
       "      <td>...</td>\n",
       "      <td>0</td>\n",
       "      <td>1</td>\n",
       "      <td>0</td>\n",
       "      <td>0</td>\n",
       "      <td>0</td>\n",
       "      <td>0</td>\n",
       "      <td>0</td>\n",
       "      <td>0</td>\n",
       "      <td>0</td>\n",
       "      <td>0</td>\n",
       "    </tr>\n",
       "    <tr>\n",
       "      <th>4</th>\n",
       "      <td>0</td>\n",
       "      <td>0</td>\n",
       "      <td>0</td>\n",
       "      <td>0</td>\n",
       "      <td>0</td>\n",
       "      <td>0</td>\n",
       "      <td>0</td>\n",
       "      <td>0</td>\n",
       "      <td>0</td>\n",
       "      <td>1</td>\n",
       "      <td>...</td>\n",
       "      <td>0</td>\n",
       "      <td>1</td>\n",
       "      <td>0</td>\n",
       "      <td>0</td>\n",
       "      <td>0</td>\n",
       "      <td>0</td>\n",
       "      <td>0</td>\n",
       "      <td>0</td>\n",
       "      <td>0</td>\n",
       "      <td>0</td>\n",
       "    </tr>\n",
       "  </tbody>\n",
       "</table>\n",
       "<p>5 rows × 1000 columns</p>\n",
       "</div>"
      ],
      "text/plain": [
       "   10  100  15  20  2013  2014  2015  2nd  30  300  ...  ye  year  year kindl  \\\n",
       "0   0    0   0   0     0     0     0    0   0    1  ...   0     0           0   \n",
       "1   0    0   0   0     0     0     0    0   0    0  ...   0     1           0   \n",
       "2   0    0   0   0     0     0     0    0   0    0  ...   0     0           0   \n",
       "3   0    0   0   0     0     0     0    0   0    0  ...   0     1           0   \n",
       "4   0    0   0   0     0     0     0    0   0    1  ...   0     1           0   \n",
       "\n",
       "   year model  year old  yet  youll  your  your read  youtub  \n",
       "0           0         0    0      1     0          0       0  \n",
       "1           0         0    0      0     0          0       0  \n",
       "2           0         0    1      0     0          0       0  \n",
       "3           0         0    0      0     0          0       0  \n",
       "4           0         0    0      0     0          0       0  \n",
       "\n",
       "[5 rows x 1000 columns]"
      ]
     },
     "execution_count": 47,
     "metadata": {},
     "output_type": "execute_result"
    }
   ],
   "source": [
    "ngram = CountVectorizer(max_features = 1000,ngram_range=(1, 2))\n",
    "data_features_ngram = ngram.fit_transform(dataset['Cleaned_Review'])\n",
    "data_features_ngram = data_features_ngram.toarray()\n",
    "print(\"Shape of the feature vector\",data_features_ngram.shape)\n",
    "words = ngram.get_feature_names_out()\n",
    "\n",
    "print(\"first 10 words\",words[:10])\n",
    "print(\"last 10 words\",words[-10:])\n",
    "df_ngram = pd.DataFrame(data_features_ngram, columns=ngram.get_feature_names_out())\n",
    "df_ngram.head()"
   ]
  },
  {
   "cell_type": "markdown",
   "id": "41965537",
   "metadata": {},
   "source": [
    "## Model Building"
   ]
  },
  {
   "cell_type": "code",
   "execution_count": 48,
   "id": "0c644e10",
   "metadata": {},
   "outputs": [
    {
     "name": "stdout",
     "output_type": "stream",
     "text": [
      "\n",
      "📊 Model Performance (Macro F1-scores):\n",
      "\n",
      "NaiveBayes - BoW              : Macro F1 = 0.5765\n",
      "NaiveBayes - N-gram           : Macro F1 = 0.5522\n",
      "RandomForest - BoW            : Macro F1 = 0.5350\n",
      "RandomForest - N-gram         : Macro F1 = 0.5047\n",
      "RandomForest - TF-IDF         : Macro F1 = 0.4769\n",
      "NaiveBayes - TF-IDF           : Macro F1 = 0.3414\n"
     ]
    }
   ],
   "source": [
    "import pandas as pd\n",
    "from sklearn.ensemble import RandomForestClassifier\n",
    "from sklearn.naive_bayes import MultinomialNB\n",
    "from sklearn.model_selection import train_test_split\n",
    "from sklearn.metrics import classification_report, confusion_matrix, f1_score\n",
    "import matplotlib.pyplot as plt\n",
    "import seaborn as sns\n",
    "vectorized_datasets = [\n",
    "    (\"BoW\", df_BOW),\n",
    "    (\"TF-IDF\", df_tfidf),\n",
    "    (\"N-gram\", df_ngram)\n",
    "]\n",
    "\n",
    "y = dataset['Sentiment']\n",
    "results = []\n",
    "for name, X in vectorized_datasets:\n",
    "    \n",
    "    X_train, X_test, y_train, y_test = train_test_split(X, y, test_size=0.2, random_state=100)\n",
    "\n",
    "    \n",
    "    rf_model = RandomForestClassifier(random_state=100)\n",
    "    rf_model.fit(X_train, y_train)\n",
    "    rf_preds = rf_model.predict(X_test)\n",
    "    rf_f1 = f1_score(y_test, rf_preds, average='macro')\n",
    "    results.append((f\"RandomForest - {name}\", rf_f1, rf_model, X_test, y_test, rf_preds))\n",
    "\n",
    "    \n",
    "    nb_model = MultinomialNB()\n",
    "    nb_model.fit(X_train, y_train)\n",
    "    nb_preds = nb_model.predict(X_test)\n",
    "    nb_f1 = f1_score(y_test, nb_preds, average='macro')\n",
    "    results.append((f\"NaiveBayes - {name}\", nb_f1, nb_model, X_test, y_test, nb_preds))\n",
    "\n",
    "results.sort(key=lambda x: x[1], reverse=True)\n",
    "\n",
    "print(\"\\n📊 Model Performance (Macro F1-scores):\\n\")\n",
    "for label, f1_score_val, _, _, _, _ in results:\n",
    "    print(f\"{label:30s}: Macro F1 = {f1_score_val:.4f}\")\n",
    "\n",
    "\n"
   ]
  },
  {
   "cell_type": "code",
   "execution_count": 49,
   "id": "f0b42fec",
   "metadata": {},
   "outputs": [
    {
     "name": "stdout",
     "output_type": "stream",
     "text": [
      "\n",
      "✅ Best Model: NaiveBayes - BoW (Macro F1 = 0.5765)\n",
      "\n",
      "Classification Report:\n",
      "\n",
      "              precision    recall  f1-score   support\n",
      "\n",
      "    NEGATIVE       0.53      0.56      0.55        16\n",
      "     NEUTRAL       0.28      0.29      0.29        17\n",
      "    POSITIVE       0.90      0.89      0.90       168\n",
      "\n",
      "    accuracy                           0.82       201\n",
      "   macro avg       0.57      0.58      0.58       201\n",
      "weighted avg       0.82      0.82      0.82       201\n",
      "\n"
     ]
    },
    {
     "data": {
      "image/png": "[encoded data removed]",
      "text/plain": [
       "<Figure size 600x500 with 2 Axes>"
      ]
     },
     "metadata": {},
     "output_type": "display_data"
    }
   ],
   "source": [
    "\n",
    "best_model_label, best_f1, best_model, X_test_best, y_test_best, y_pred_best = results[0]\n",
    "print(f\"\\n✅ Best Model: {best_model_label} (Macro F1 = {best_f1:.4f})\\n\")\n",
    "print(\"Classification Report:\\n\")\n",
    "print(classification_report(y_test_best, y_pred_best))\n",
    "\n",
    "cm = confusion_matrix(y_test_best, y_pred_best, labels=best_model.classes_)\n",
    "plt.figure(figsize=(6, 5))\n",
    "sns.heatmap(cm, annot=True, fmt='d', cmap='Blues', xticklabels=best_model.classes_, yticklabels=best_model.classes_)\n",
    "plt.title(f\"Confusion Matrix: {best_model_label}\")\n",
    "plt.xlabel(\"Predicted\")\n",
    "plt.ylabel(\"Actual\")\n",
    "plt.tight_layout()\n",
    "plt.show()"
   ]
  },
  {
   "cell_type": "code",
   "execution_count": 51,
   "id": "a37ab457",
   "metadata": {},
   "outputs": [
    {
     "name": "stdout",
     "output_type": "stream",
     "text": [
      "\n",
      "📊 Model Performance (Macro F1-scores):\n",
      "\n",
      "NaiveBayes - BoW                   : Macro F1 = 0.5765\n",
      "NaiveBayes - N-gram                : Macro F1 = 0.5522\n",
      "RandomForest - BoW                 : Macro F1 = 0.5350\n",
      "LogisticRegression - N-gram        : Macro F1 = 0.5189\n",
      "RandomForest - N-gram              : Macro F1 = 0.5047\n",
      "LogisticRegression - BoW           : Macro F1 = 0.4919\n",
      "RandomForest - TF-IDF              : Macro F1 = 0.4769\n",
      "LogisticRegression - TF-IDF        : Macro F1 = 0.3814\n",
      "NaiveBayes - TF-IDF                : Macro F1 = 0.3414\n"
     ]
    }
   ],
   "source": [
    "from sklearn.linear_model import LogisticRegression\n",
    "for name, X in vectorized_datasets:\n",
    "    X_train, X_test, y_train, y_test = train_test_split(X, y, test_size=0.2, random_state=100)\n",
    "    lr_model = LogisticRegression(max_iter=1000, random_state=100)\n",
    "    lr_model.fit(X_train, y_train)\n",
    "    lr_preds = lr_model.predict(X_test)\n",
    "    lr_f1 = f1_score(y_test, lr_preds, average='macro')\n",
    "    results.append((f\"LogisticRegression - {name}\", lr_f1, lr_model, X_test, y_test, lr_preds))\n",
    "\n",
    "results.sort(key=lambda x: x[1], reverse=True)\n",
    "\n",
    "print(\"\\n📊 Model Performance (Macro F1-scores):\\n\")\n",
    "for label, f1_score_val, _, _, _, _ in results:\n",
    "    print(f\"{label:35s}: Macro F1 = {f1_score_val:.4f}\")"
   ]
  },
  {
   "cell_type": "code",
   "execution_count": null,
   "id": "5385bbd0",
   "metadata": {},
   "outputs": [],
   "source": []
  }
 ],
 "metadata": {
  "kernelspec": {
   "display_name": "Python 3",
   "language": "python",
   "name": "python3"
  },
  "language_info": {
   "codemirror_mode": {
    "name": "ipython",
    "version": 3
   },
   "file_extension": ".py",
   "mimetype": "text/x-python",
   "name": "python",
   "nbconvert_exporter": "python",
   "pygments_lexer": "ipython3",
   "version": "3.12.5"
  }
 },
 "nbformat": 4,
 "nbformat_minor": 5
}
